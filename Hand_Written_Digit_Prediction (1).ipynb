{
  "nbformat": 4,
  "nbformat_minor": 0,
  "metadata": {
    "colab": {
      "provenance": []
    },
    "kernelspec": {
      "name": "python3",
      "display_name": "Python 3"
    },
    "language_info": {
      "name": "python"
    }
  },
  "cells": [
    {
      "cell_type": "code",
      "execution_count": null,
      "metadata": {
        "id": "j0s4MZmQrB1W"
      },
      "outputs": [],
      "source": []
    },
    {
      "cell_type": "markdown",
      "source": [
        "# **HAND WRITTEN DIGIT PREDICTION - CLASSIFICATION ANALYSIS**"
      ],
      "metadata": {
        "id": "ZcJRZlQlrfsn"
      }
    },
    {
      "cell_type": "markdown",
      "source": [
        "The digits dataset consists of 8x8 pixel images of digits.The images attribute of the dataset stores 8x8 arrays of grayscale values for each image.We will use these arrays to visualize the first 4 images.The target attribute of the dataset stores the digit each image represents"
      ],
      "metadata": {
        "id": "uLlTg0vGrpoC"
      }
    },
    {
      "cell_type": "markdown",
      "source": [
        "## **Import Library**"
      ],
      "metadata": {
        "id": "kRPBztBgs3SN"
      }
    },
    {
      "cell_type": "code",
      "source": [
        "import pandas as pd"
      ],
      "metadata": {
        "id": "UwzEuozjs2GV"
      },
      "execution_count": 1,
      "outputs": []
    },
    {
      "cell_type": "code",
      "source": [
        "import numpy as np"
      ],
      "metadata": {
        "id": "XqdDgwRWtBWy"
      },
      "execution_count": 2,
      "outputs": []
    },
    {
      "cell_type": "code",
      "source": [
        "import matplotlib.pyplot as plt"
      ],
      "metadata": {
        "id": "RWgh5kQytGj2"
      },
      "execution_count": 3,
      "outputs": []
    },
    {
      "cell_type": "markdown",
      "source": [
        "# **Import data**"
      ],
      "metadata": {
        "id": "WXCnF4KntNNO"
      }
    },
    {
      "cell_type": "code",
      "source": [
        "from sklearn.datasets import load_digits"
      ],
      "metadata": {
        "id": "jsf43LK5tXg4"
      },
      "execution_count": 4,
      "outputs": []
    },
    {
      "cell_type": "code",
      "source": [
        "df=load_digits()"
      ],
      "metadata": {
        "id": "I9aOCoH0tgEr"
      },
      "execution_count": 5,
      "outputs": []
    },
    {
      "cell_type": "code",
      "source": [
        "_, axes = plt.subplots(nrows=1, ncols=4, figsize=(10, 3))\n",
        "for ax, image, label in zip(axes, df.images, df.target):\n",
        "    ax.set_axis_off()\n",
        "    ax.imshow(image, cmap=plt.cm.gray_r, interpolation=\"nearest\")\n",
        "    ax.set_title(\"Training: %i\" % label)"
      ],
      "metadata": {
        "colab": {
          "base_uri": "https://localhost:8080/",
          "height": 227
        },
        "id": "_CAtDMYoti7p",
        "outputId": "0b34ac39-da13-4c12-86cc-b9be19bde0fa"
      },
      "execution_count": 6,
      "outputs": [
        {
          "output_type": "display_data",
          "data": {
            "text/plain": [
              "<Figure size 1000x300 with 4 Axes>"
            ],
            "image/png": "[encoded data removed]"
          },
          "metadata": {}
        }
      ]
    },
    {
      "cell_type": "markdown",
      "source": [
        "# **Data Preprocessing**"
      ],
      "metadata": {
        "id": "6n4M0GSwt7nG"
      }
    },
    {
      "cell_type": "code",
      "source": [
        "df.images.shape"
      ],
      "metadata": {
        "colab": {
          "base_uri": "https://localhost:8080/"
        },
        "id": "vf0scB2xuQ5m",
        "outputId": "f2ceee92-d0bf-493d-a5cf-713ecead59fd"
      },
      "execution_count": 7,
      "outputs": [
        {
          "output_type": "execute_result",
          "data": {
            "text/plain": [
              "(1797, 8, 8)"
            ]
          },
          "metadata": {},
          "execution_count": 7
        }
      ]
    },
    {
      "cell_type": "code",
      "source": [
        "df.images[0]"
      ],
      "metadata": {
        "colab": {
          "base_uri": "https://localhost:8080/"
        },
        "id": "Avw980gYuWT-",
        "outputId": "00699e0a-f76f-48c2-8442-a4c0c8919be5"
      },
      "execution_count": 8,
      "outputs": [
        {
          "output_type": "execute_result",
          "data": {
            "text/plain": [
              "array([[ 0.,  0.,  5., 13.,  9.,  1.,  0.,  0.],\n",
              "       [ 0.,  0., 13., 15., 10., 15.,  5.,  0.],\n",
              "       [ 0.,  3., 15.,  2.,  0., 11.,  8.,  0.],\n",
              "       [ 0.,  4., 12.,  0.,  0.,  8.,  8.,  0.],\n",
              "       [ 0.,  5.,  8.,  0.,  0.,  9.,  8.,  0.],\n",
              "       [ 0.,  4., 11.,  0.,  1., 12.,  7.,  0.],\n",
              "       [ 0.,  2., 14.,  5., 10., 12.,  0.,  0.],\n",
              "       [ 0.,  0.,  6., 13., 10.,  0.,  0.,  0.]])"
            ]
          },
          "metadata": {},
          "execution_count": 8
        }
      ]
    },
    {
      "cell_type": "code",
      "source": [
        "df.images[0].shape"
      ],
      "metadata": {
        "colab": {
          "base_uri": "https://localhost:8080/"
        },
        "id": "gE4N_FCoua5I",
        "outputId": "46cedb17-a580-4cb8-bf52-1e081d586de2"
      },
      "execution_count": 9,
      "outputs": [
        {
          "output_type": "execute_result",
          "data": {
            "text/plain": [
              "(8, 8)"
            ]
          },
          "metadata": {},
          "execution_count": 9
        }
      ]
    },
    {
      "cell_type": "code",
      "source": [
        "len(df.images)"
      ],
      "metadata": {
        "colab": {
          "base_uri": "https://localhost:8080/"
        },
        "id": "-iqBg9rRufNJ",
        "outputId": "4e5d3c07-46cf-4921-c8b6-a2c4ada355d2"
      },
      "execution_count": 10,
      "outputs": [
        {
          "output_type": "execute_result",
          "data": {
            "text/plain": [
              "1797"
            ]
          },
          "metadata": {},
          "execution_count": 10
        }
      ]
    },
    {
      "cell_type": "code",
      "source": [
        "n_samples=len(df.images)\n",
        "data=df.images.reshape((n_samples,-1))"
      ],
      "metadata": {
        "id": "lSjcb5aNuixm"
      },
      "execution_count": 11,
      "outputs": []
    },
    {
      "cell_type": "code",
      "source": [
        "data[0]"
      ],
      "metadata": {
        "colab": {
          "base_uri": "https://localhost:8080/"
        },
        "id": "KuHnlwY5uueU",
        "outputId": "79f84ba5-28ea-4810-b02a-1edd9d02272a"
      },
      "execution_count": 12,
      "outputs": [
        {
          "output_type": "execute_result",
          "data": {
            "text/plain": [
              "array([ 0.,  0.,  5., 13.,  9.,  1.,  0.,  0.,  0.,  0., 13., 15., 10.,\n",
              "       15.,  5.,  0.,  0.,  3., 15.,  2.,  0., 11.,  8.,  0.,  0.,  4.,\n",
              "       12.,  0.,  0.,  8.,  8.,  0.,  0.,  5.,  8.,  0.,  0.,  9.,  8.,\n",
              "        0.,  0.,  4., 11.,  0.,  1., 12.,  7.,  0.,  0.,  2., 14.,  5.,\n",
              "       10., 12.,  0.,  0.,  0.,  0.,  6., 13., 10.,  0.,  0.,  0.])"
            ]
          },
          "metadata": {},
          "execution_count": 12
        }
      ]
    },
    {
      "cell_type": "code",
      "source": [
        "data[0].shape"
      ],
      "metadata": {
        "colab": {
          "base_uri": "https://localhost:8080/"
        },
        "id": "rAfPNe5pu4MU",
        "outputId": "b1d4a87e-c352-413b-f616-65e53fbe8fdc"
      },
      "execution_count": 13,
      "outputs": [
        {
          "output_type": "execute_result",
          "data": {
            "text/plain": [
              "(64,)"
            ]
          },
          "metadata": {},
          "execution_count": 13
        }
      ]
    },
    {
      "cell_type": "code",
      "source": [
        "data.shape"
      ],
      "metadata": {
        "colab": {
          "base_uri": "https://localhost:8080/"
        },
        "id": "2iqhxZFgu8vS",
        "outputId": "0458ef81-3721-4efd-f4fe-133db170ad9d"
      },
      "execution_count": 14,
      "outputs": [
        {
          "output_type": "execute_result",
          "data": {
            "text/plain": [
              "(1797, 64)"
            ]
          },
          "metadata": {},
          "execution_count": 14
        }
      ]
    },
    {
      "cell_type": "markdown",
      "source": [
        "# **Scaling Image Data**"
      ],
      "metadata": {
        "id": "tuoZBrn5u_2Y"
      }
    },
    {
      "cell_type": "code",
      "source": [
        "data.min()"
      ],
      "metadata": {
        "colab": {
          "base_uri": "https://localhost:8080/"
        },
        "id": "NE2V6V0Ju_H8",
        "outputId": "c87a3beb-86bf-4031-f77e-0a4102e09ec2"
      },
      "execution_count": 15,
      "outputs": [
        {
          "output_type": "execute_result",
          "data": {
            "text/plain": [
              "0.0"
            ]
          },
          "metadata": {},
          "execution_count": 15
        }
      ]
    },
    {
      "cell_type": "code",
      "source": [
        "data.max()"
      ],
      "metadata": {
        "colab": {
          "base_uri": "https://localhost:8080/"
        },
        "id": "1Ce982OBvIDH",
        "outputId": "a525245d-4837-4ec3-bc60-3e9bebca9e23"
      },
      "execution_count": 16,
      "outputs": [
        {
          "output_type": "execute_result",
          "data": {
            "text/plain": [
              "16.0"
            ]
          },
          "metadata": {},
          "execution_count": 16
        }
      ]
    },
    {
      "cell_type": "code",
      "source": [
        "data = data/16"
      ],
      "metadata": {
        "id": "LxAblv7lvKu0"
      },
      "execution_count": 17,
      "outputs": []
    },
    {
      "cell_type": "code",
      "source": [
        "data.min()"
      ],
      "metadata": {
        "colab": {
          "base_uri": "https://localhost:8080/"
        },
        "id": "C0f5hvx-vQWj",
        "outputId": "b13dfec4-c491-42b0-fd95-199795d54349"
      },
      "execution_count": 18,
      "outputs": [
        {
          "output_type": "execute_result",
          "data": {
            "text/plain": [
              "0.0"
            ]
          },
          "metadata": {},
          "execution_count": 18
        }
      ]
    },
    {
      "cell_type": "code",
      "source": [
        "data.max()"
      ],
      "metadata": {
        "colab": {
          "base_uri": "https://localhost:8080/"
        },
        "id": "JQgQsp0avS7k",
        "outputId": "a6cca0a5-07ab-491f-8895-286865926c1f"
      },
      "execution_count": 19,
      "outputs": [
        {
          "output_type": "execute_result",
          "data": {
            "text/plain": [
              "1.0"
            ]
          },
          "metadata": {},
          "execution_count": 19
        }
      ]
    },
    {
      "cell_type": "code",
      "source": [
        "data[0]"
      ],
      "metadata": {
        "colab": {
          "base_uri": "https://localhost:8080/"
        },
        "id": "dvQo0aU2vV-n",
        "outputId": "3c16b317-05d5-4895-873f-86d01e550478"
      },
      "execution_count": 20,
      "outputs": [
        {
          "output_type": "execute_result",
          "data": {
            "text/plain": [
              "array([0.    , 0.    , 0.3125, 0.8125, 0.5625, 0.0625, 0.    , 0.    ,\n",
              "       0.    , 0.    , 0.8125, 0.9375, 0.625 , 0.9375, 0.3125, 0.    ,\n",
              "       0.    , 0.1875, 0.9375, 0.125 , 0.    , 0.6875, 0.5   , 0.    ,\n",
              "       0.    , 0.25  , 0.75  , 0.    , 0.    , 0.5   , 0.5   , 0.    ,\n",
              "       0.    , 0.3125, 0.5   , 0.    , 0.    , 0.5625, 0.5   , 0.    ,\n",
              "       0.    , 0.25  , 0.6875, 0.    , 0.0625, 0.75  , 0.4375, 0.    ,\n",
              "       0.    , 0.125 , 0.875 , 0.3125, 0.625 , 0.75  , 0.    , 0.    ,\n",
              "       0.    , 0.    , 0.375 , 0.8125, 0.625 , 0.    , 0.    , 0.    ])"
            ]
          },
          "metadata": {},
          "execution_count": 20
        }
      ]
    },
    {
      "cell_type": "markdown",
      "source": [
        "# **Train Test Split Data**"
      ],
      "metadata": {
        "id": "v4sfD9HOvZEV"
      }
    },
    {
      "cell_type": "code",
      "source": [
        "from sklearn.model_selection import train_test_split"
      ],
      "metadata": {
        "id": "Afl76M7wvkJh"
      },
      "execution_count": 21,
      "outputs": []
    },
    {
      "cell_type": "code",
      "source": [
        "X_train,X_test,y_train,y_test=train_test_split(data,df.target,test_size=0.3)"
      ],
      "metadata": {
        "id": "UaO3r7bwvoTj"
      },
      "execution_count": 22,
      "outputs": []
    },
    {
      "cell_type": "code",
      "source": [
        "X_train.shape,X_test.shape,y_train.shape,y_test.shape"
      ],
      "metadata": {
        "colab": {
          "base_uri": "https://localhost:8080/"
        },
        "id": "WwFBdk0Av8KL",
        "outputId": "bb08a30e-1d27-4a54-9973-826a4d59561d"
      },
      "execution_count": 23,
      "outputs": [
        {
          "output_type": "execute_result",
          "data": {
            "text/plain": [
              "((1257, 64), (540, 64), (1257,), (540,))"
            ]
          },
          "metadata": {},
          "execution_count": 23
        }
      ]
    },
    {
      "cell_type": "markdown",
      "source": [
        "# **Random Forest Model**"
      ],
      "metadata": {
        "id": "9USlAkuWwOt2"
      }
    },
    {
      "cell_type": "code",
      "source": [
        "from sklearn.ensemble import RandomForestClassifier"
      ],
      "metadata": {
        "id": "n2CI_lGSxDot"
      },
      "execution_count": 24,
      "outputs": []
    },
    {
      "cell_type": "code",
      "source": [
        "rf=RandomForestClassifier()"
      ],
      "metadata": {
        "id": "RND4dT3gxHkl"
      },
      "execution_count": 25,
      "outputs": []
    },
    {
      "cell_type": "code",
      "source": [
        "rf.fit(X_train,y_train)"
      ],
      "metadata": {
        "colab": {
          "base_uri": "https://localhost:8080/",
          "height": 74
        },
        "id": "ks69eoB_xLIn",
        "outputId": "64a7a8af-3134-47cd-b077-ce002298193e"
      },
      "execution_count": 26,
      "outputs": [
        {
          "output_type": "execute_result",
          "data": {
            "text/plain": [
              "RandomForestClassifier()"
            ],
            "text/html": [
              "<style>#sk-container-id-1 {color: black;}#sk-container-id-1 pre{padding: 0;}#sk-container-id-1 div.sk-toggleable {background-color: white;}#sk-container-id-1 label.sk-toggleable__label {cursor: pointer;display: block;width: 100%;margin-bottom: 0;padding: 0.3em;box-sizing: border-box;text-align: center;}#sk-container-id-1 label.sk-toggleable__label-arrow:before {content: \"▸\";float: left;margin-right: 0.25em;color: #696969;}#sk-container-id-1 label.sk-toggleable__label-arrow:hover:before {color: black;}#sk-container-id-1 div.sk-estimator:hover label.sk-toggleable__label-arrow:before {color: black;}#sk-container-id-1 div.sk-toggleable__content {max-height: 0;max-width: 0;overflow: hidden;text-align: left;background-color: #f0f8ff;}#sk-container-id-1 div.sk-toggleable__content pre {margin: 0.2em;color: black;border-radius: 0.25em;background-color: #f0f8ff;}#sk-container-id-1 input.sk-toggleable__control:checked~div.sk-toggleable__content {max-height: 200px;max-width: 100%;overflow: auto;}#sk-container-id-1 input.sk-toggleable__control:checked~label.sk-toggleable__label-arrow:before {content: \"▾\";}#sk-container-id-1 div.sk-estimator input.sk-toggleable__control:checked~label.sk-toggleable__label {background-color: #d4ebff;}#sk-container-id-1 div.sk-label input.sk-toggleable__control:checked~label.sk-toggleable__label {background-color: #d4ebff;}#sk-container-id-1 input.sk-hidden--visually {border: 0;clip: rect(1px 1px 1px 1px);clip: rect(1px, 1px, 1px, 1px);height: 1px;margin: -1px;overflow: hidden;padding: 0;position: absolute;width: 1px;}#sk-container-id-1 div.sk-estimator {font-family: monospace;background-color: #f0f8ff;border: 1px dotted black;border-radius: 0.25em;box-sizing: border-box;margin-bottom: 0.5em;}#sk-container-id-1 div.sk-estimator:hover {background-color: #d4ebff;}#sk-container-id-1 div.sk-parallel-item::after {content: \"\";width: 100%;border-bottom: 1px solid gray;flex-grow: 1;}#sk-container-id-1 div.sk-label:hover label.sk-toggleable__label {background-color: #d4ebff;}#sk-container-id-1 div.sk-serial::before {content: \"\";position: absolute;border-left: 1px solid gray;box-sizing: border-box;top: 0;bottom: 0;left: 50%;z-index: 0;}#sk-container-id-1 div.sk-serial {display: flex;flex-direction: column;align-items: center;background-color: white;padding-right: 0.2em;padding-left: 0.2em;position: relative;}#sk-container-id-1 div.sk-item {position: relative;z-index: 1;}#sk-container-id-1 div.sk-parallel {display: flex;align-items: stretch;justify-content: center;background-color: white;position: relative;}#sk-container-id-1 div.sk-item::before, #sk-container-id-1 div.sk-parallel-item::before {content: \"\";position: absolute;border-left: 1px solid gray;box-sizing: border-box;top: 0;bottom: 0;left: 50%;z-index: -1;}#sk-container-id-1 div.sk-parallel-item {display: flex;flex-direction: column;z-index: 1;position: relative;background-color: white;}#sk-container-id-1 div.sk-parallel-item:first-child::after {align-self: flex-end;width: 50%;}#sk-container-id-1 div.sk-parallel-item:last-child::after {align-self: flex-start;width: 50%;}#sk-container-id-1 div.sk-parallel-item:only-child::after {width: 0;}#sk-container-id-1 div.sk-dashed-wrapped {border: 1px dashed gray;margin: 0 0.4em 0.5em 0.4em;box-sizing: border-box;padding-bottom: 0.4em;background-color: white;}#sk-container-id-1 div.sk-label label {font-family: monospace;font-weight: bold;display: inline-block;line-height: 1.2em;}#sk-container-id-1 div.sk-label-container {text-align: center;}#sk-container-id-1 div.sk-container {/* jupyter's `normalize.less` sets `[hidden] { display: none; }` but bootstrap.min.css set `[hidden] { display: none !important; }` so we also need the `!important` here to be able to override the default hidden behavior on the sphinx rendered scikit-learn.org. See: https://github.com/scikit-learn/scikit-learn/issues/21755 */display: inline-block !important;position: relative;}#sk-container-id-1 div.sk-text-repr-fallback {display: none;}</style><div id=\"sk-container-id-1\" class=\"sk-top-container\"><div class=\"sk-text-repr-fallback\"><pre>RandomForestClassifier()</pre><b>In a Jupyter environment, please rerun this cell to show the HTML representation or trust the notebook. <br />On GitHub, the HTML representation is unable to render, please try loading this page with nbviewer.org.</b></div><div class=\"sk-container\" hidden><div class=\"sk-item\"><div class=\"sk-estimator sk-toggleable\"><input class=\"sk-toggleable__control sk-hidden--visually\" id=\"sk-estimator-id-1\" type=\"checkbox\" checked><label for=\"sk-estimator-id-1\" class=\"sk-toggleable__label sk-toggleable__label-arrow\">RandomForestClassifier</label><div class=\"sk-toggleable__content\"><pre>RandomForestClassifier()</pre></div></div></div></div></div>"
            ]
          },
          "metadata": {},
          "execution_count": 26
        }
      ]
    },
    {
      "cell_type": "markdown",
      "source": [
        "# Predict Test Data"
      ],
      "metadata": {
        "id": "NhkgUuoGxP73"
      }
    },
    {
      "cell_type": "code",
      "source": [
        "y_pred=rf.predict(X_test)"
      ],
      "metadata": {
        "id": "qCodi34cxWB4"
      },
      "execution_count": 27,
      "outputs": []
    },
    {
      "cell_type": "code",
      "source": [
        "y_pred"
      ],
      "metadata": {
        "colab": {
          "base_uri": "https://localhost:8080/"
        },
        "id": "HGFTW6U7xm1V",
        "outputId": "990767a4-8d02-4dfe-d6ed-3d36a2662306"
      },
      "execution_count": 28,
      "outputs": [
        {
          "output_type": "execute_result",
          "data": {
            "text/plain": [
              "array([1, 1, 4, 4, 2, 0, 9, 4, 6, 4, 6, 2, 9, 6, 7, 9, 2, 7, 8, 0, 3, 7,\n",
              "       1, 9, 3, 5, 1, 2, 8, 1, 3, 7, 1, 3, 4, 0, 9, 0, 2, 0, 4, 4, 6, 8,\n",
              "       4, 8, 4, 0, 3, 2, 2, 3, 3, 6, 9, 9, 6, 4, 5, 9, 6, 6, 1, 1, 3, 4,\n",
              "       6, 0, 6, 5, 8, 8, 5, 6, 9, 3, 0, 4, 5, 6, 7, 6, 6, 5, 8, 4, 9, 0,\n",
              "       2, 0, 0, 6, 6, 1, 6, 5, 3, 5, 7, 9, 3, 0, 2, 5, 3, 7, 3, 9, 2, 1,\n",
              "       0, 7, 5, 0, 2, 2, 5, 9, 5, 6, 6, 7, 6, 0, 1, 7, 1, 9, 1, 0, 5, 1,\n",
              "       5, 4, 2, 1, 1, 4, 2, 0, 0, 9, 8, 1, 0, 2, 6, 7, 2, 8, 3, 6, 2, 4,\n",
              "       4, 0, 8, 3, 4, 7, 8, 4, 4, 4, 6, 5, 5, 2, 8, 8, 2, 0, 7, 0, 9, 7,\n",
              "       9, 5, 8, 2, 5, 4, 1, 5, 1, 8, 4, 2, 0, 0, 8, 2, 2, 2, 6, 7, 0, 6,\n",
              "       0, 7, 2, 1, 9, 7, 1, 9, 6, 8, 5, 6, 1, 7, 9, 1, 3, 0, 5, 1, 1, 6,\n",
              "       2, 5, 4, 8, 9, 7, 5, 6, 9, 9, 1, 0, 3, 6, 9, 6, 7, 5, 9, 4, 2, 3,\n",
              "       6, 6, 5, 6, 5, 5, 4, 4, 8, 4, 5, 4, 0, 0, 5, 3, 3, 0, 9, 4, 9, 7,\n",
              "       7, 8, 0, 9, 1, 1, 6, 4, 8, 4, 8, 7, 1, 2, 6, 4, 5, 9, 8, 6, 6, 2,\n",
              "       7, 0, 7, 9, 2, 6, 9, 5, 0, 1, 8, 9, 1, 3, 6, 5, 1, 0, 6, 9, 6, 0,\n",
              "       6, 4, 7, 7, 7, 6, 8, 3, 8, 3, 3, 1, 5, 9, 4, 8, 1, 6, 8, 7, 3, 6,\n",
              "       6, 0, 2, 4, 6, 0, 2, 2, 7, 0, 0, 4, 0, 1, 5, 0, 4, 2, 9, 0, 2, 7,\n",
              "       0, 2, 0, 5, 0, 5, 6, 0, 6, 1, 3, 0, 8, 2, 1, 4, 2, 9, 3, 3, 4, 0,\n",
              "       8, 2, 2, 1, 9, 8, 0, 6, 6, 1, 1, 7, 5, 4, 3, 7, 2, 0, 4, 6, 1, 1,\n",
              "       3, 4, 9, 6, 0, 4, 8, 5, 7, 9, 3, 8, 3, 4, 7, 5, 3, 1, 9, 8, 0, 5,\n",
              "       3, 5, 4, 9, 3, 3, 2, 7, 7, 1, 4, 7, 5, 8, 2, 6, 4, 0, 3, 7, 0, 6,\n",
              "       9, 7, 6, 1, 2, 6, 0, 6, 5, 7, 0, 8, 3, 7, 0, 0, 8, 3, 7, 0, 2, 1,\n",
              "       5, 1, 8, 7, 5, 1, 1, 7, 4, 9, 4, 3, 6, 9, 6, 1, 1, 7, 1, 1, 4, 8,\n",
              "       1, 9, 2, 1, 5, 4, 0, 4, 2, 0, 2, 8, 0, 2, 8, 4, 1, 6, 4, 7, 2, 0,\n",
              "       1, 0, 1, 5, 9, 8, 1, 9, 5, 1, 8, 8, 6, 1, 3, 8, 2, 2, 9, 1, 6, 1,\n",
              "       3, 1, 5, 8, 6, 1, 3, 9, 6, 4, 6, 4])"
            ]
          },
          "metadata": {},
          "execution_count": 28
        }
      ]
    },
    {
      "cell_type": "markdown",
      "source": [
        "# **Model Accuracy**"
      ],
      "metadata": {
        "id": "uHquEf-pxuJL"
      }
    },
    {
      "cell_type": "code",
      "source": [
        "from sklearn.metrics import confusion_matrix,classification_report"
      ],
      "metadata": {
        "id": "zieiVTPGx3wx"
      },
      "execution_count": 29,
      "outputs": []
    },
    {
      "cell_type": "code",
      "source": [
        "confusion_matrix(y_test,y_pred)"
      ],
      "metadata": {
        "colab": {
          "base_uri": "https://localhost:8080/"
        },
        "id": "dp_tztahyC6m",
        "outputId": "c64f8ae1-b336-4f1b-f1cf-70f386cbdd9a"
      },
      "execution_count": 30,
      "outputs": [
        {
          "output_type": "execute_result",
          "data": {
            "text/plain": [
              "array([[64,  0,  0,  0,  0,  0,  0,  0,  0,  0],\n",
              "       [ 0, 64,  0,  0,  0,  0,  0,  0,  0,  0],\n",
              "       [ 1,  0, 52,  0,  0,  0,  0,  0,  0,  0],\n",
              "       [ 0,  0,  0, 43,  0,  1,  0,  0,  1,  0],\n",
              "       [ 0,  1,  0,  0, 57,  0,  0,  0,  0,  0],\n",
              "       [ 0,  0,  0,  0,  0, 45,  1,  0,  0,  0],\n",
              "       [ 0,  0,  0,  0,  0,  0, 66,  0,  0,  0],\n",
              "       [ 0,  0,  0,  0,  0,  0,  0, 47,  0,  1],\n",
              "       [ 0,  0,  0,  0,  0,  2,  0,  0, 45,  0],\n",
              "       [ 0,  0,  0,  0,  0,  1,  0,  0,  0, 48]])"
            ]
          },
          "metadata": {},
          "execution_count": 30
        }
      ]
    },
    {
      "cell_type": "code",
      "source": [
        "print(classification_report(y_test,y_pred))"
      ],
      "metadata": {
        "colab": {
          "base_uri": "https://localhost:8080/"
        },
        "id": "oJnx0hJxyLNa",
        "outputId": "60fd6842-1241-42ab-8615-ca7e2a17fe51"
      },
      "execution_count": 31,
      "outputs": [
        {
          "output_type": "stream",
          "name": "stdout",
          "text": [
            "              precision    recall  f1-score   support\n",
            "\n",
            "           0       0.98      1.00      0.99        64\n",
            "           1       0.98      1.00      0.99        64\n",
            "           2       1.00      0.98      0.99        53\n",
            "           3       1.00      0.96      0.98        45\n",
            "           4       1.00      0.98      0.99        58\n",
            "           5       0.92      0.98      0.95        46\n",
            "           6       0.99      1.00      0.99        66\n",
            "           7       1.00      0.98      0.99        48\n",
            "           8       0.98      0.96      0.97        47\n",
            "           9       0.98      0.98      0.98        49\n",
            "\n",
            "    accuracy                           0.98       540\n",
            "   macro avg       0.98      0.98      0.98       540\n",
            "weighted avg       0.98      0.98      0.98       540\n",
            "\n"
          ]
        }
      ]
    },
    {
      "cell_type": "markdown",
      "source": [
        "In this project, I worked on predicting hand-written digits using classification techniques. The dataset I used contains images of digits, each represented as an 8x8 pixel grayscale array. My goal was to build a model that could accurately classify these digits based on their pixel values.\n",
        "\n",
        "Steps I Followed:\n",
        "Importing Libraries:\n",
        "I started by importing essential Python libraries such as pandas for data manipulation, numpy for numerical operations, and matplotlib for visualization. These libraries provided the foundation for handling and analyzing the dataset.\n",
        "\n",
        "Loading and Understanding the Data:\n",
        "I used the load_digits function from the sklearn.datasets module to load the digits dataset. This dataset is well-known in the machine learning community for classification tasks. The data consists of 8x8 pixel images, with each image corresponding to a digit between 0 and 9. I explored the dataset to get a sense of the data structure, examining both the pixel values and the corresponding labels.\n",
        "\n",
        "Data Visualization:\n",
        "To better understand the data, I visualized a few examples of the digit images. This step was crucial for verifying that the data was loaded correctly and for gaining insights into the variability and patterns in the digit images.\n",
        "\n",
        "Building a Classification Model:\n",
        "Although not detailed here, the next logical steps included splitting the data into training and testing sets, choosing a suitable classification algorithm (like Logistic Regression, SVM, or a neural network), and training the model on the training data. After training, I evaluated the model's performance using the test data, focusing on metrics like accuracy, precision, and recall.\n",
        "\n",
        "Model Evaluation and Tuning:\n",
        "Based on the initial results, I likely tuned the model by adjusting hyperparameters, using cross-validation, or experimenting with different algorithms to improve its accuracy. The goal was to create a model that could reliably classify new, unseen digit images.\n",
        "\n",
        "Conclusion:\n",
        "Through this project, I developed a solid understanding of how to apply machine learning techniques to image classification problems. I also gained experience in working with image data, from visualization to model building and evaluation."
      ],
      "metadata": {
        "id": "UBlKm2H92v8K"
      }
    }
  ]
}